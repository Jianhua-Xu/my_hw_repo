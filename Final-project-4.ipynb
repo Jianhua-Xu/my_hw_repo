{
 "cells": [
  {
   "cell_type": "markdown",
   "metadata": {
    "collapsed": true
   },
   "source": [
    "#  Final Project 4 "
   ]
  },
  {
   "cell_type": "markdown",
   "metadata": {
    "collapsed": true
   },
   "source": [
    "# Predictive Analysis of Interest Level of Renthop Rental Listings "
   ]
  },
  {
   "cell_type": "markdown",
   "metadata": {},
   "source": [
    "## Introduction"
   ]
  },
  {
   "cell_type": "markdown",
   "metadata": {},
   "source": [
    "Predict how popular an apartment rental listing is based on the listing content like text description, photos, number of bedrooms, price, etc. The data comes from renthop.com, an apartment listing website. These apartments are located in New York City. The target variable, interest_level, is defined by the number of inquiries a listing has in the duration that the listing was live on the site. "
   ]
  },
  {
   "cell_type": "code",
   "execution_count": 2,
   "metadata": {
    "collapsed": false
   },
   "outputs": [],
   "source": [
    "import warnings\n",
    "warnings.filterwarnings('ignore')\n",
    "import pandas as pd\n",
    "import numpy as np\n",
    "from datetime import datetime\n",
    "import seaborn as sns\n",
    "import googlemaps\n",
    "import time\n",
    "from matplotlib import pyplot as plt\n",
    "plt.style.use('ggplot')\n",
    "from sklearn import grid_search, cross_validation, preprocessing\n",
    "from sklearn.linear_model import LogisticRegression\n",
    "from sklearn.ensemble import RandomForestClassifier\n",
    "from sklearn.metrics import roc_curve, roc_auc_score, confusion_matrix, precision_score, auc\n",
    "from sklearn.feature_extraction.text import CountVectorizer\n",
    "from scipy.sparse import hstack\n",
    "%matplotlib inline"
   ]
  },
  {
   "cell_type": "markdown",
   "metadata": {},
   "source": [
    "## Helper Functions "
   ]
  },
  {
   "cell_type": "code",
   "execution_count": 129,
   "metadata": {
    "collapsed": true
   },
   "outputs": [],
   "source": [
    "# get month from date time\n",
    "def get_month(dt):\n",
    "    return datetime.strptime(dt,'%Y-%m-%d %H:%M:%S').month\n",
    "\n",
    "# request google api for neighborhood based on latitude and longitude\n",
    "zip_list=[]\n",
    "index_list=[]\n",
    "def save_zip(df):\n",
    "    for i in range(len(df)):\n",
    "        d=df.iloc[i]\n",
    "        try:\n",
    "            res=gmaps.reverse_geocode((d['latitude'],d['longitude']))\n",
    "            address=res[0]['address_components']\n",
    "            for comp in address:\n",
    "                if(comp['types'][0]=='neighborhood'):\n",
    "                    zip_list.append(str(comp['long_name']))\n",
    "                    index_list.append(df.index[i])\n",
    "        except:\n",
    "            pass\n",
    "        if((i>1)and((i % 10)==0)):\n",
    "            time.sleep(0.22)\n",
    "            data2save=pd.DataFrame({'neighborhood':zip_list},index=index_list)\n",
    "            data2save.to_csv('test_zip_.csv')"
   ]
  },
  {
   "cell_type": "markdown",
   "metadata": {},
   "source": [
    "## Explanatory Analysis"
   ]
  },
  {
   "cell_type": "code",
   "execution_count": 123,
   "metadata": {
    "collapsed": true
   },
   "outputs": [],
   "source": [
    "# load train data\n",
    "train=pd.read_json('train.json')"
   ]
  },
  {
   "cell_type": "code",
   "execution_count": 97,
   "metadata": {
    "collapsed": false
   },
   "outputs": [
    {
     "name": "stdout",
     "output_type": "stream",
     "text": [
      "<class 'pandas.core.frame.DataFrame'>\n",
      "Int64Index: 49352 entries, 10 to 99994\n",
      "Data columns (total 15 columns):\n",
      "bathrooms          49352 non-null float64\n",
      "bedrooms           49352 non-null int64\n",
      "building_id        49352 non-null object\n",
      "created            49352 non-null object\n",
      "description        49352 non-null object\n",
      "display_address    49352 non-null object\n",
      "features           49352 non-null object\n",
      "interest_level     49352 non-null object\n",
      "latitude           49352 non-null float64\n",
      "listing_id         49352 non-null int64\n",
      "longitude          49352 non-null float64\n",
      "manager_id         49352 non-null object\n",
      "photos             49352 non-null object\n",
      "price              49352 non-null int64\n",
      "street_address     49352 non-null object\n",
      "dtypes: float64(3), int64(3), object(9)\n",
      "memory usage: 6.0+ MB\n"
     ]
    }
   ],
   "source": [
    "train.info()"
   ]
  },
  {
   "cell_type": "code",
   "execution_count": 98,
   "metadata": {
    "collapsed": false
   },
   "outputs": [
    {
     "data": {
      "text/html": [
       "<div>\n",
       "<table border=\"1\" class=\"dataframe\">\n",
       "  <thead>\n",
       "    <tr style=\"text-align: right;\">\n",
       "      <th></th>\n",
       "      <th>bathrooms</th>\n",
       "      <th>bedrooms</th>\n",
       "      <th>building_id</th>\n",
       "      <th>created</th>\n",
       "      <th>description</th>\n",
       "      <th>display_address</th>\n",
       "      <th>features</th>\n",
       "      <th>interest_level</th>\n",
       "      <th>latitude</th>\n",
       "      <th>listing_id</th>\n",
       "      <th>longitude</th>\n",
       "      <th>manager_id</th>\n",
       "      <th>photos</th>\n",
       "      <th>price</th>\n",
       "      <th>street_address</th>\n",
       "    </tr>\n",
       "  </thead>\n",
       "  <tbody>\n",
       "    <tr>\n",
       "      <th>10</th>\n",
       "      <td>1.5</td>\n",
       "      <td>3</td>\n",
       "      <td>53a5b119ba8f7b61d4e010512e0dfc85</td>\n",
       "      <td>2016-06-24 07:54:24</td>\n",
       "      <td>A Brand New 3 Bedroom 1.5 bath ApartmentEnjoy ...</td>\n",
       "      <td>Metropolitan Avenue</td>\n",
       "      <td>[]</td>\n",
       "      <td>medium</td>\n",
       "      <td>40.7145</td>\n",
       "      <td>7211212</td>\n",
       "      <td>-73.9425</td>\n",
       "      <td>5ba989232d0489da1b5f2c45f6688adc</td>\n",
       "      <td>[https://photos.renthop.com/2/7211212_1ed4542e...</td>\n",
       "      <td>3000</td>\n",
       "      <td>792 Metropolitan Avenue</td>\n",
       "    </tr>\n",
       "    <tr>\n",
       "      <th>10000</th>\n",
       "      <td>1.0</td>\n",
       "      <td>2</td>\n",
       "      <td>c5c8a357cba207596b04d1afd1e4f130</td>\n",
       "      <td>2016-06-12 12:19:27</td>\n",
       "      <td></td>\n",
       "      <td>Columbus Avenue</td>\n",
       "      <td>[Doorman, Elevator, Fitness Center, Cats Allow...</td>\n",
       "      <td>low</td>\n",
       "      <td>40.7947</td>\n",
       "      <td>7150865</td>\n",
       "      <td>-73.9667</td>\n",
       "      <td>7533621a882f71e25173b27e3139d83d</td>\n",
       "      <td>[https://photos.renthop.com/2/7150865_be3306c5...</td>\n",
       "      <td>5465</td>\n",
       "      <td>808 Columbus Avenue</td>\n",
       "    </tr>\n",
       "    <tr>\n",
       "      <th>100004</th>\n",
       "      <td>1.0</td>\n",
       "      <td>1</td>\n",
       "      <td>c3ba40552e2120b0acfc3cb5730bb2aa</td>\n",
       "      <td>2016-04-17 03:26:41</td>\n",
       "      <td>Top Top West Village location, beautiful Pre-w...</td>\n",
       "      <td>W 13 Street</td>\n",
       "      <td>[Laundry In Building, Dishwasher, Hardwood Flo...</td>\n",
       "      <td>high</td>\n",
       "      <td>40.7388</td>\n",
       "      <td>6887163</td>\n",
       "      <td>-74.0018</td>\n",
       "      <td>d9039c43983f6e564b1482b273bd7b01</td>\n",
       "      <td>[https://photos.renthop.com/2/6887163_de85c427...</td>\n",
       "      <td>2850</td>\n",
       "      <td>241 W 13 Street</td>\n",
       "    </tr>\n",
       "    <tr>\n",
       "      <th>100007</th>\n",
       "      <td>1.0</td>\n",
       "      <td>1</td>\n",
       "      <td>28d9ad350afeaab8027513a3e52ac8d5</td>\n",
       "      <td>2016-04-18 02:22:02</td>\n",
       "      <td>Building Amenities - Garage - Garden - fitness...</td>\n",
       "      <td>East 49th Street</td>\n",
       "      <td>[Hardwood Floors, No Fee]</td>\n",
       "      <td>low</td>\n",
       "      <td>40.7539</td>\n",
       "      <td>6888711</td>\n",
       "      <td>-73.9677</td>\n",
       "      <td>1067e078446a7897d2da493d2f741316</td>\n",
       "      <td>[https://photos.renthop.com/2/6888711_6e660cee...</td>\n",
       "      <td>3275</td>\n",
       "      <td>333 East 49th Street</td>\n",
       "    </tr>\n",
       "    <tr>\n",
       "      <th>100013</th>\n",
       "      <td>1.0</td>\n",
       "      <td>4</td>\n",
       "      <td>0</td>\n",
       "      <td>2016-04-28 01:32:41</td>\n",
       "      <td>Beautifully renovated 3 bedroom flex 4 bedroom...</td>\n",
       "      <td>West 143rd Street</td>\n",
       "      <td>[Pre-War]</td>\n",
       "      <td>low</td>\n",
       "      <td>40.8241</td>\n",
       "      <td>6934781</td>\n",
       "      <td>-73.9493</td>\n",
       "      <td>98e13ad4b495b9613cef886d79a6291f</td>\n",
       "      <td>[https://photos.renthop.com/2/6934781_1fa4b41a...</td>\n",
       "      <td>3350</td>\n",
       "      <td>500 West 143rd Street</td>\n",
       "    </tr>\n",
       "  </tbody>\n",
       "</table>\n",
       "</div>"
      ],
      "text/plain": [
       "        bathrooms  bedrooms                       building_id  \\\n",
       "10            1.5         3  53a5b119ba8f7b61d4e010512e0dfc85   \n",
       "10000         1.0         2  c5c8a357cba207596b04d1afd1e4f130   \n",
       "100004        1.0         1  c3ba40552e2120b0acfc3cb5730bb2aa   \n",
       "100007        1.0         1  28d9ad350afeaab8027513a3e52ac8d5   \n",
       "100013        1.0         4                                 0   \n",
       "\n",
       "                    created  \\\n",
       "10      2016-06-24 07:54:24   \n",
       "10000   2016-06-12 12:19:27   \n",
       "100004  2016-04-17 03:26:41   \n",
       "100007  2016-04-18 02:22:02   \n",
       "100013  2016-04-28 01:32:41   \n",
       "\n",
       "                                              description  \\\n",
       "10      A Brand New 3 Bedroom 1.5 bath ApartmentEnjoy ...   \n",
       "10000                                                       \n",
       "100004  Top Top West Village location, beautiful Pre-w...   \n",
       "100007  Building Amenities - Garage - Garden - fitness...   \n",
       "100013  Beautifully renovated 3 bedroom flex 4 bedroom...   \n",
       "\n",
       "            display_address  \\\n",
       "10      Metropolitan Avenue   \n",
       "10000       Columbus Avenue   \n",
       "100004          W 13 Street   \n",
       "100007     East 49th Street   \n",
       "100013    West 143rd Street   \n",
       "\n",
       "                                                 features interest_level  \\\n",
       "10                                                     []         medium   \n",
       "10000   [Doorman, Elevator, Fitness Center, Cats Allow...            low   \n",
       "100004  [Laundry In Building, Dishwasher, Hardwood Flo...           high   \n",
       "100007                          [Hardwood Floors, No Fee]            low   \n",
       "100013                                          [Pre-War]            low   \n",
       "\n",
       "        latitude  listing_id  longitude                        manager_id  \\\n",
       "10       40.7145     7211212   -73.9425  5ba989232d0489da1b5f2c45f6688adc   \n",
       "10000    40.7947     7150865   -73.9667  7533621a882f71e25173b27e3139d83d   \n",
       "100004   40.7388     6887163   -74.0018  d9039c43983f6e564b1482b273bd7b01   \n",
       "100007   40.7539     6888711   -73.9677  1067e078446a7897d2da493d2f741316   \n",
       "100013   40.8241     6934781   -73.9493  98e13ad4b495b9613cef886d79a6291f   \n",
       "\n",
       "                                                   photos  price  \\\n",
       "10      [https://photos.renthop.com/2/7211212_1ed4542e...   3000   \n",
       "10000   [https://photos.renthop.com/2/7150865_be3306c5...   5465   \n",
       "100004  [https://photos.renthop.com/2/6887163_de85c427...   2850   \n",
       "100007  [https://photos.renthop.com/2/6888711_6e660cee...   3275   \n",
       "100013  [https://photos.renthop.com/2/6934781_1fa4b41a...   3350   \n",
       "\n",
       "                 street_address  \n",
       "10      792 Metropolitan Avenue  \n",
       "10000       808 Columbus Avenue  \n",
       "100004          241 W 13 Street  \n",
       "100007     333 East 49th Street  \n",
       "100013    500 West 143rd Street  "
      ]
     },
     "execution_count": 98,
     "metadata": {},
     "output_type": "execute_result"
    }
   ],
   "source": [
    "train.head()"
   ]
  },
  {
   "cell_type": "markdown",
   "metadata": {},
   "source": [
    "The data is in a good shape. No nulls. Also column building_id, listing_id, manager_id should be dropped. We will use latitude and longitude for location infromation. So display_address and street_address can be removed too. "
   ]
  },
  {
   "cell_type": "code",
   "execution_count": 124,
   "metadata": {
    "collapsed": false
   },
   "outputs": [],
   "source": [
    "train=train.drop(['building_id', 'listing_id', 'manager_id','display_address','street_address'], 1)"
   ]
  },
  {
   "cell_type": "markdown",
   "metadata": {},
   "source": [
    "Replace interest level with numbers"
   ]
  },
  {
   "cell_type": "code",
   "execution_count": 125,
   "metadata": {
    "collapsed": true
   },
   "outputs": [],
   "source": [
    "train=train.replace({\"interest_level\": {\"low\": 0, \"medium\": 1, \"high\": 2}})"
   ]
  },
  {
   "cell_type": "code",
   "execution_count": 106,
   "metadata": {
    "collapsed": false
   },
   "outputs": [
    {
     "data": {
      "text/plain": [
       "0    34284\n",
       "1    11229\n",
       "2     3839\n",
       "Name: interest_level, dtype: int64"
      ]
     },
     "execution_count": 106,
     "metadata": {},
     "output_type": "execute_result"
    }
   ],
   "source": [
    "train.interest_level.value_counts()"
   ]
  },
  {
   "cell_type": "code",
   "execution_count": 107,
   "metadata": {
    "collapsed": false
   },
   "outputs": [
    {
     "data": {
      "image/png": "[encoded data removed]",
      "text/plain": [
       "<matplotlib.figure.Figure at 0x8ac37f28>"
      ]
     },
     "metadata": {},
     "output_type": "display_data"
    }
   ],
   "source": [
    "train['interest_level'].plot.hist();"
   ]
  },
  {
   "cell_type": "code",
   "execution_count": 108,
   "metadata": {
    "collapsed": false
   },
   "outputs": [
    {
     "data": {
      "image/png": "[encoded data removed]",
      "text/plain": [
       "<matplotlib.figure.Figure at 0x1a2c39b0>"
      ]
     },
     "metadata": {},
     "output_type": "display_data"
    }
   ],
   "source": [
    "train['bedrooms'].plot.hist();"
   ]
  },
  {
   "cell_type": "code",
   "execution_count": 109,
   "metadata": {
    "collapsed": false
   },
   "outputs": [
    {
     "data": {
      "image/png": "[encoded data removed]",
      "text/plain": [
       "<matplotlib.figure.Figure at 0x1bb770f0>"
      ]
     },
     "metadata": {},
     "output_type": "display_data"
    }
   ],
   "source": [
    "train['bathrooms'].plot.hist(bins=20);"
   ]
  },
  {
   "cell_type": "code",
   "execution_count": 110,
   "metadata": {
    "collapsed": false
   },
   "outputs": [
    {
     "data": {
      "image/png": "[encoded data removed]",
      "text/plain": [
       "<matplotlib.figure.Figure at 0x1aa32ac8>"
      ]
     },
     "metadata": {},
     "output_type": "display_data"
    }
   ],
   "source": [
    "train[['latitude','longitude']].plot.scatter(x='longitude',y='latitude');"
   ]
  },
  {
   "cell_type": "markdown",
   "metadata": {},
   "source": [
    "Need to remove bad latitude and bad longitude. From the graph, we can see there are outliners. To exclude the outliners, we can get the latitude and longitude ranges by clicking on Google Map. Latitude=[40.496217,40.910596], longitude=[-75.255653,-73.701978]. Loose the numbers 0.5 to exlude outliners."
   ]
  },
  {
   "cell_type": "code",
   "execution_count": 126,
   "metadata": {
    "collapsed": true
   },
   "outputs": [],
   "source": [
    "train=train[(train.longitude>-75.30)|(train.longitude<-73.75)|(train.latitude>40.45)|(train.latitude<40.95)]"
   ]
  },
  {
   "cell_type": "code",
   "execution_count": 112,
   "metadata": {
    "collapsed": false
   },
   "outputs": [
    {
     "data": {
      "image/png": "[encoded data removed]",
      "text/plain": [
       "<matplotlib.figure.Figure at 0x8b880cf8>"
      ]
     },
     "metadata": {},
     "output_type": "display_data"
    }
   ],
   "source": [
    "train['price'].plot(kind='box',ylim=[0,7000]);"
   ]
  },
  {
   "cell_type": "code",
   "execution_count": 113,
   "metadata": {
    "collapsed": false
   },
   "outputs": [
    {
     "data": {
      "text/html": [
       "<div>\n",
       "<table border=\"1\" class=\"dataframe\">\n",
       "  <thead>\n",
       "    <tr style=\"text-align: right;\">\n",
       "      <th></th>\n",
       "      <th>bathrooms</th>\n",
       "      <th>bedrooms</th>\n",
       "      <th>created</th>\n",
       "      <th>description</th>\n",
       "      <th>features</th>\n",
       "      <th>interest_level</th>\n",
       "      <th>latitude</th>\n",
       "      <th>longitude</th>\n",
       "      <th>photos</th>\n",
       "      <th>price</th>\n",
       "    </tr>\n",
       "  </thead>\n",
       "  <tbody>\n",
       "    <tr>\n",
       "      <th>12168</th>\n",
       "      <td>1.0</td>\n",
       "      <td>2</td>\n",
       "      <td>2016-06-24 05:02:58</td>\n",
       "      <td></td>\n",
       "      <td>[Doorman, Elevator, Cats Allowed, Dogs Allowed...</td>\n",
       "      <td>0</td>\n",
       "      <td>40.8011</td>\n",
       "      <td>-73.9480</td>\n",
       "      <td>[]</td>\n",
       "      <td>1150000</td>\n",
       "    </tr>\n",
       "    <tr>\n",
       "      <th>123877</th>\n",
       "      <td>0.0</td>\n",
       "      <td>0</td>\n",
       "      <td>2016-04-12 02:11:10</td>\n",
       "      <td>Originally built in 1862, this extraordinary l...</td>\n",
       "      <td>[Elevator, Pre-War, Terrace, Dogs Allowed, Cat...</td>\n",
       "      <td>0</td>\n",
       "      <td>40.7161</td>\n",
       "      <td>-74.0080</td>\n",
       "      <td>[https://photos.renthop.com/2/6857401_a4a4c2f2...</td>\n",
       "      <td>135000</td>\n",
       "    </tr>\n",
       "    <tr>\n",
       "      <th>32611</th>\n",
       "      <td>1.0</td>\n",
       "      <td>2</td>\n",
       "      <td>2016-06-24 05:02:11</td>\n",
       "      <td></td>\n",
       "      <td>[Doorman, Elevator, Cats Allowed, Dogs Allowed...</td>\n",
       "      <td>0</td>\n",
       "      <td>40.7299</td>\n",
       "      <td>-74.0071</td>\n",
       "      <td>[]</td>\n",
       "      <td>4490000</td>\n",
       "    </tr>\n",
       "    <tr>\n",
       "      <th>4620</th>\n",
       "      <td>1.0</td>\n",
       "      <td>0</td>\n",
       "      <td>2016-06-07 17:35:10</td>\n",
       "      <td>The BEST DEAL!!!!!\\r\\rBeautiful Studio in a ni...</td>\n",
       "      <td>[Elevator, Laundry In Building, Balcony]</td>\n",
       "      <td>2</td>\n",
       "      <td>40.7323</td>\n",
       "      <td>-73.8761</td>\n",
       "      <td>[https://photos.renthop.com/2/7122037_531f0877...</td>\n",
       "      <td>111111</td>\n",
       "    </tr>\n",
       "    <tr>\n",
       "      <th>55437</th>\n",
       "      <td>1.0</td>\n",
       "      <td>1</td>\n",
       "      <td>2016-05-14 05:21:28</td>\n",
       "      <td></td>\n",
       "      <td>[Doorman, Cats Allowed, Dogs Allowed]</td>\n",
       "      <td>0</td>\n",
       "      <td>40.7676</td>\n",
       "      <td>-73.9844</td>\n",
       "      <td>[]</td>\n",
       "      <td>1070000</td>\n",
       "    </tr>\n",
       "    <tr>\n",
       "      <th>57803</th>\n",
       "      <td>1.0</td>\n",
       "      <td>1</td>\n",
       "      <td>2016-05-19 02:37:06</td>\n",
       "      <td>This 1 Bedroom apartment is located on a prime...</td>\n",
       "      <td>[Doorman, Elevator, Pre-War, Dogs Allowed, Cat...</td>\n",
       "      <td>0</td>\n",
       "      <td>40.7676</td>\n",
       "      <td>-73.9844</td>\n",
       "      <td>[https://photos.renthop.com/2/7036279_924b52f0...</td>\n",
       "      <td>1070000</td>\n",
       "    </tr>\n",
       "  </tbody>\n",
       "</table>\n",
       "</div>"
      ],
      "text/plain": [
       "        bathrooms  bedrooms              created  \\\n",
       "12168         1.0         2  2016-06-24 05:02:58   \n",
       "123877        0.0         0  2016-04-12 02:11:10   \n",
       "32611         1.0         2  2016-06-24 05:02:11   \n",
       "4620          1.0         0  2016-06-07 17:35:10   \n",
       "55437         1.0         1  2016-05-14 05:21:28   \n",
       "57803         1.0         1  2016-05-19 02:37:06   \n",
       "\n",
       "                                              description  \\\n",
       "12168                                                       \n",
       "123877  Originally built in 1862, this extraordinary l...   \n",
       "32611                                                       \n",
       "4620    The BEST DEAL!!!!!\\r\\rBeautiful Studio in a ni...   \n",
       "55437                                                       \n",
       "57803   This 1 Bedroom apartment is located on a prime...   \n",
       "\n",
       "                                                 features  interest_level  \\\n",
       "12168   [Doorman, Elevator, Cats Allowed, Dogs Allowed...               0   \n",
       "123877  [Elevator, Pre-War, Terrace, Dogs Allowed, Cat...               0   \n",
       "32611   [Doorman, Elevator, Cats Allowed, Dogs Allowed...               0   \n",
       "4620             [Elevator, Laundry In Building, Balcony]               2   \n",
       "55437               [Doorman, Cats Allowed, Dogs Allowed]               0   \n",
       "57803   [Doorman, Elevator, Pre-War, Dogs Allowed, Cat...               0   \n",
       "\n",
       "        latitude  longitude  \\\n",
       "12168    40.8011   -73.9480   \n",
       "123877   40.7161   -74.0080   \n",
       "32611    40.7299   -74.0071   \n",
       "4620     40.7323   -73.8761   \n",
       "55437    40.7676   -73.9844   \n",
       "57803    40.7676   -73.9844   \n",
       "\n",
       "                                                   photos    price  \n",
       "12168                                                  []  1150000  \n",
       "123877  [https://photos.renthop.com/2/6857401_a4a4c2f2...   135000  \n",
       "32611                                                  []  4490000  \n",
       "4620    [https://photos.renthop.com/2/7122037_531f0877...   111111  \n",
       "55437                                                  []  1070000  \n",
       "57803   [https://photos.renthop.com/2/7036279_924b52f0...  1070000  "
      ]
     },
     "execution_count": 113,
     "metadata": {},
     "output_type": "execute_result"
    }
   ],
   "source": [
    "train[train.price>100000]"
   ]
  },
  {
   "cell_type": "code",
   "execution_count": 127,
   "metadata": {
    "collapsed": false
   },
   "outputs": [
    {
     "data": {
      "text/html": [
       "<div>\n",
       "<table border=\"1\" class=\"dataframe\">\n",
       "  <thead>\n",
       "    <tr style=\"text-align: right;\">\n",
       "      <th></th>\n",
       "      <th>bathrooms</th>\n",
       "      <th>bedrooms</th>\n",
       "      <th>created</th>\n",
       "      <th>description</th>\n",
       "      <th>features</th>\n",
       "      <th>interest_level</th>\n",
       "      <th>latitude</th>\n",
       "      <th>longitude</th>\n",
       "      <th>photos</th>\n",
       "      <th>price</th>\n",
       "    </tr>\n",
       "  </thead>\n",
       "  <tbody>\n",
       "    <tr>\n",
       "      <th>10</th>\n",
       "      <td>1.5</td>\n",
       "      <td>3</td>\n",
       "      <td>2016-06-24 07:54:24</td>\n",
       "      <td>A Brand New 3 Bedroom 1.5 bath ApartmentEnjoy ...</td>\n",
       "      <td>[]</td>\n",
       "      <td>1</td>\n",
       "      <td>40.7145</td>\n",
       "      <td>-73.9425</td>\n",
       "      <td>[https://photos.renthop.com/2/7211212_1ed4542e...</td>\n",
       "      <td>3000</td>\n",
       "    </tr>\n",
       "    <tr>\n",
       "      <th>10000</th>\n",
       "      <td>1.0</td>\n",
       "      <td>2</td>\n",
       "      <td>2016-06-12 12:19:27</td>\n",
       "      <td></td>\n",
       "      <td>[Doorman, Elevator, Fitness Center, Cats Allow...</td>\n",
       "      <td>0</td>\n",
       "      <td>40.7947</td>\n",
       "      <td>-73.9667</td>\n",
       "      <td>[https://photos.renthop.com/2/7150865_be3306c5...</td>\n",
       "      <td>5465</td>\n",
       "    </tr>\n",
       "    <tr>\n",
       "      <th>100004</th>\n",
       "      <td>1.0</td>\n",
       "      <td>1</td>\n",
       "      <td>2016-04-17 03:26:41</td>\n",
       "      <td>Top Top West Village location, beautiful Pre-w...</td>\n",
       "      <td>[Laundry In Building, Dishwasher, Hardwood Flo...</td>\n",
       "      <td>2</td>\n",
       "      <td>40.7388</td>\n",
       "      <td>-74.0018</td>\n",
       "      <td>[https://photos.renthop.com/2/6887163_de85c427...</td>\n",
       "      <td>2850</td>\n",
       "    </tr>\n",
       "    <tr>\n",
       "      <th>100007</th>\n",
       "      <td>1.0</td>\n",
       "      <td>1</td>\n",
       "      <td>2016-04-18 02:22:02</td>\n",
       "      <td>Building Amenities - Garage - Garden - fitness...</td>\n",
       "      <td>[Hardwood Floors, No Fee]</td>\n",
       "      <td>0</td>\n",
       "      <td>40.7539</td>\n",
       "      <td>-73.9677</td>\n",
       "      <td>[https://photos.renthop.com/2/6888711_6e660cee...</td>\n",
       "      <td>3275</td>\n",
       "    </tr>\n",
       "    <tr>\n",
       "      <th>100013</th>\n",
       "      <td>1.0</td>\n",
       "      <td>4</td>\n",
       "      <td>2016-04-28 01:32:41</td>\n",
       "      <td>Beautifully renovated 3 bedroom flex 4 bedroom...</td>\n",
       "      <td>[Pre-War]</td>\n",
       "      <td>0</td>\n",
       "      <td>40.8241</td>\n",
       "      <td>-73.9493</td>\n",
       "      <td>[https://photos.renthop.com/2/6934781_1fa4b41a...</td>\n",
       "      <td>3350</td>\n",
       "    </tr>\n",
       "  </tbody>\n",
       "</table>\n",
       "</div>"
      ],
      "text/plain": [
       "        bathrooms  bedrooms              created  \\\n",
       "10            1.5         3  2016-06-24 07:54:24   \n",
       "10000         1.0         2  2016-06-12 12:19:27   \n",
       "100004        1.0         1  2016-04-17 03:26:41   \n",
       "100007        1.0         1  2016-04-18 02:22:02   \n",
       "100013        1.0         4  2016-04-28 01:32:41   \n",
       "\n",
       "                                              description  \\\n",
       "10      A Brand New 3 Bedroom 1.5 bath ApartmentEnjoy ...   \n",
       "10000                                                       \n",
       "100004  Top Top West Village location, beautiful Pre-w...   \n",
       "100007  Building Amenities - Garage - Garden - fitness...   \n",
       "100013  Beautifully renovated 3 bedroom flex 4 bedroom...   \n",
       "\n",
       "                                                 features  interest_level  \\\n",
       "10                                                     []               1   \n",
       "10000   [Doorman, Elevator, Fitness Center, Cats Allow...               0   \n",
       "100004  [Laundry In Building, Dishwasher, Hardwood Flo...               2   \n",
       "100007                          [Hardwood Floors, No Fee]               0   \n",
       "100013                                          [Pre-War]               0   \n",
       "\n",
       "        latitude  longitude  \\\n",
       "10       40.7145   -73.9425   \n",
       "10000    40.7947   -73.9667   \n",
       "100004   40.7388   -74.0018   \n",
       "100007   40.7539   -73.9677   \n",
       "100013   40.8241   -73.9493   \n",
       "\n",
       "                                                   photos  price  \n",
       "10      [https://photos.renthop.com/2/7211212_1ed4542e...   3000  \n",
       "10000   [https://photos.renthop.com/2/7150865_be3306c5...   5465  \n",
       "100004  [https://photos.renthop.com/2/6887163_de85c427...   2850  \n",
       "100007  [https://photos.renthop.com/2/6888711_6e660cee...   3275  \n",
       "100013  [https://photos.renthop.com/2/6934781_1fa4b41a...   3350  "
      ]
     },
     "execution_count": 127,
     "metadata": {},
     "output_type": "execute_result"
    }
   ],
   "source": [
    "train=train[train.price<=100000]\n",
    "train.head()"
   ]
  },
  {
   "cell_type": "code",
   "execution_count": null,
   "metadata": {
    "collapsed": true
   },
   "outputs": [],
   "source": [
    "Lower prices, more interests"
   ]
  },
  {
   "cell_type": "code",
   "execution_count": 135,
   "metadata": {
    "collapsed": false
   },
   "outputs": [
    {
     "data": {
      "image/png": "[encoded data removed]",
      "text/plain": [
       "<matplotlib.figure.Figure at 0x1ad15438>"
      ]
     },
     "metadata": {},
     "output_type": "display_data"
    }
   ],
   "source": [
    "sns.lmplot('price', 'interest_level', \n",
    "           data=train, size=5, aspect=2,\n",
    "           fit_reg=False, \n",
    "           line_kws={'linestyle':'-', 'linewidth':'1'});"
   ]
  },
  {
   "cell_type": "code",
   "execution_count": 136,
   "metadata": {
    "collapsed": false
   },
   "outputs": [
    {
     "data": {
      "image/png": "[encoded data removed]",
      "text/plain": [
       "<matplotlib.figure.Figure at 0x1ded00b8>"
      ]
     },
     "metadata": {},
     "output_type": "display_data"
    }
   ],
   "source": [
    "sns.lmplot('bedrooms', 'interest_level', \n",
    "           data=train, size=5, aspect=2,\n",
    "           fit_reg=False, \n",
    "           line_kws={'linestyle':'-', 'linewidth':'1'});"
   ]
  },
  {
   "cell_type": "markdown",
   "metadata": {},
   "source": [
    "## Feather Engineering "
   ]
  },
  {
   "cell_type": "markdown",
   "metadata": {},
   "source": [
    "### created  "
   ]
  },
  {
   "cell_type": "code",
   "execution_count": null,
   "metadata": {
    "collapsed": true
   },
   "outputs": [],
   "source": [
    "Extract month code from date time. To model seasonality."
   ]
  },
  {
   "cell_type": "code",
   "execution_count": 130,
   "metadata": {
    "collapsed": false
   },
   "outputs": [],
   "source": [
    "train['created']=train['created'].apply(get_month)"
   ]
  },
  {
   "cell_type": "markdown",
   "metadata": {
    "collapsed": true
   },
   "source": [
    "### Description and Features"
   ]
  },
  {
   "cell_type": "markdown",
   "metadata": {},
   "source": [
    "Better descriptions and more features attract attentions. So there are some informationt to attract. For simpilicty, we will use the word counts for these two columns"
   ]
  },
  {
   "cell_type": "code",
   "execution_count": 131,
   "metadata": {
    "collapsed": true
   },
   "outputs": [],
   "source": [
    "train['description']=train.description.apply(len)\n",
    "train['features']=train.features.apply(len)"
   ]
  },
  {
   "cell_type": "markdown",
   "metadata": {},
   "source": [
    "### Photos "
   ]
  },
  {
   "cell_type": "code",
   "execution_count": null,
   "metadata": {
    "collapsed": true
   },
   "outputs": [],
   "source": [
    "Photos attracts attentions too. For simpilitcy, we use the photo counts for modeling"
   ]
  },
  {
   "cell_type": "code",
   "execution_count": 132,
   "metadata": {
    "collapsed": true
   },
   "outputs": [],
   "source": [
    "train['photos']=train.photos.apply(len)"
   ]
  },
  {
   "cell_type": "markdown",
   "metadata": {},
   "source": [
    "### Latitude and Longitude to neighborhood"
   ]
  },
  {
   "cell_type": "code",
   "execution_count": null,
   "metadata": {
    "collapsed": true
   },
   "outputs": [],
   "source": [
    "#save_zip(train)"
   ]
  },
  {
   "cell_type": "code",
   "execution_count": 133,
   "metadata": {
    "collapsed": false
   },
   "outputs": [
    {
     "data": {
      "text/html": [
       "<div>\n",
       "<table border=\"1\" class=\"dataframe\">\n",
       "  <thead>\n",
       "    <tr style=\"text-align: right;\">\n",
       "      <th></th>\n",
       "      <th>neighborhood</th>\n",
       "    </tr>\n",
       "  </thead>\n",
       "  <tbody>\n",
       "    <tr>\n",
       "      <th>10</th>\n",
       "      <td>Williamsburg</td>\n",
       "    </tr>\n",
       "    <tr>\n",
       "      <th>10000</th>\n",
       "      <td>Upper West Side</td>\n",
       "    </tr>\n",
       "    <tr>\n",
       "      <th>100004</th>\n",
       "      <td>Lower Manhattan</td>\n",
       "    </tr>\n",
       "    <tr>\n",
       "      <th>100007</th>\n",
       "      <td>Midtown East</td>\n",
       "    </tr>\n",
       "    <tr>\n",
       "      <th>100013</th>\n",
       "      <td>Upper Manhattan</td>\n",
       "    </tr>\n",
       "  </tbody>\n",
       "</table>\n",
       "</div>"
      ],
      "text/plain": [
       "           neighborhood\n",
       "10         Williamsburg\n",
       "10000   Upper West Side\n",
       "100004  Lower Manhattan\n",
       "100007     Midtown East\n",
       "100013  Upper Manhattan"
      ]
     },
     "execution_count": 133,
     "metadata": {},
     "output_type": "execute_result"
    }
   ],
   "source": [
    "train_zip=pd.read_csv('train_zip_.csv', index_col=0)\n",
    "train_zip.head()"
   ]
  },
  {
   "cell_type": "code",
   "execution_count": 134,
   "metadata": {
    "collapsed": false
   },
   "outputs": [
    {
     "data": {
      "text/html": [
       "<div>\n",
       "<table border=\"1\" class=\"dataframe\">\n",
       "  <thead>\n",
       "    <tr style=\"text-align: right;\">\n",
       "      <th></th>\n",
       "      <th>bathrooms</th>\n",
       "      <th>bedrooms</th>\n",
       "      <th>created</th>\n",
       "      <th>description</th>\n",
       "      <th>features</th>\n",
       "      <th>interest_level</th>\n",
       "      <th>latitude</th>\n",
       "      <th>longitude</th>\n",
       "      <th>photos</th>\n",
       "      <th>price</th>\n",
       "      <th>neighborhood</th>\n",
       "    </tr>\n",
       "  </thead>\n",
       "  <tbody>\n",
       "    <tr>\n",
       "      <th>10</th>\n",
       "      <td>1.5</td>\n",
       "      <td>3</td>\n",
       "      <td>6</td>\n",
       "      <td>588</td>\n",
       "      <td>0</td>\n",
       "      <td>1</td>\n",
       "      <td>40.7145</td>\n",
       "      <td>-73.9425</td>\n",
       "      <td>5</td>\n",
       "      <td>3000</td>\n",
       "      <td>Williamsburg</td>\n",
       "    </tr>\n",
       "    <tr>\n",
       "      <th>10000</th>\n",
       "      <td>1.0</td>\n",
       "      <td>2</td>\n",
       "      <td>6</td>\n",
       "      <td>8</td>\n",
       "      <td>5</td>\n",
       "      <td>0</td>\n",
       "      <td>40.7947</td>\n",
       "      <td>-73.9667</td>\n",
       "      <td>11</td>\n",
       "      <td>5465</td>\n",
       "      <td>Upper West Side</td>\n",
       "    </tr>\n",
       "    <tr>\n",
       "      <th>100004</th>\n",
       "      <td>1.0</td>\n",
       "      <td>1</td>\n",
       "      <td>4</td>\n",
       "      <td>691</td>\n",
       "      <td>4</td>\n",
       "      <td>2</td>\n",
       "      <td>40.7388</td>\n",
       "      <td>-74.0018</td>\n",
       "      <td>8</td>\n",
       "      <td>2850</td>\n",
       "      <td>Lower Manhattan</td>\n",
       "    </tr>\n",
       "    <tr>\n",
       "      <th>100007</th>\n",
       "      <td>1.0</td>\n",
       "      <td>1</td>\n",
       "      <td>4</td>\n",
       "      <td>492</td>\n",
       "      <td>2</td>\n",
       "      <td>0</td>\n",
       "      <td>40.7539</td>\n",
       "      <td>-73.9677</td>\n",
       "      <td>3</td>\n",
       "      <td>3275</td>\n",
       "      <td>Midtown East</td>\n",
       "    </tr>\n",
       "    <tr>\n",
       "      <th>100013</th>\n",
       "      <td>1.0</td>\n",
       "      <td>4</td>\n",
       "      <td>4</td>\n",
       "      <td>479</td>\n",
       "      <td>1</td>\n",
       "      <td>0</td>\n",
       "      <td>40.8241</td>\n",
       "      <td>-73.9493</td>\n",
       "      <td>3</td>\n",
       "      <td>3350</td>\n",
       "      <td>Upper Manhattan</td>\n",
       "    </tr>\n",
       "  </tbody>\n",
       "</table>\n",
       "</div>"
      ],
      "text/plain": [
       "        bathrooms  bedrooms  created  description  features  interest_level  \\\n",
       "10            1.5         3        6          588         0               1   \n",
       "10000         1.0         2        6            8         5               0   \n",
       "100004        1.0         1        4          691         4               2   \n",
       "100007        1.0         1        4          492         2               0   \n",
       "100013        1.0         4        4          479         1               0   \n",
       "\n",
       "        latitude  longitude  photos  price     neighborhood  \n",
       "10       40.7145   -73.9425       5   3000     Williamsburg  \n",
       "10000    40.7947   -73.9667      11   5465  Upper West Side  \n",
       "100004   40.7388   -74.0018       8   2850  Lower Manhattan  \n",
       "100007   40.7539   -73.9677       3   3275     Midtown East  \n",
       "100013   40.8241   -73.9493       3   3350  Upper Manhattan  "
      ]
     },
     "execution_count": 134,
     "metadata": {},
     "output_type": "execute_result"
    }
   ],
   "source": [
    "train=train.join(train_zip)\n",
    "train=train.dropna()\n",
    "train.head()"
   ]
  },
  {
   "cell_type": "code",
   "execution_count": 137,
   "metadata": {
    "collapsed": false
   },
   "outputs": [
    {
     "data": {
      "image/png": "[encoded data removed]",
      "text/plain": [
       "<matplotlib.figure.Figure at 0x35bf35c0>"
      ]
     },
     "metadata": {},
     "output_type": "display_data"
    }
   ],
   "source": [
    "train.hist(figsize=(20,20));"
   ]
  },
  {
   "cell_type": "markdown",
   "metadata": {
    "collapsed": false
   },
   "source": [
    "## Modeling "
   ]
  },
  {
   "cell_type": "markdown",
   "metadata": {},
   "source": [
    "### Correlation \n",
    "Before modeling logistic regression, test the correlation of variables and predictor. "
   ]
  },
  {
   "cell_type": "code",
   "execution_count": 8,
   "metadata": {
    "collapsed": false
   },
   "outputs": [
    {
     "data": {
      "text/html": [
       "<div>\n",
       "<table border=\"1\" class=\"dataframe\">\n",
       "  <thead>\n",
       "    <tr style=\"text-align: right;\">\n",
       "      <th></th>\n",
       "      <th>bathrooms</th>\n",
       "      <th>bedrooms</th>\n",
       "      <th>created</th>\n",
       "      <th>description</th>\n",
       "      <th>features</th>\n",
       "      <th>interest_level</th>\n",
       "      <th>photos</th>\n",
       "      <th>price</th>\n",
       "    </tr>\n",
       "  </thead>\n",
       "  <tbody>\n",
       "    <tr>\n",
       "      <th>bathrooms</th>\n",
       "      <td>1.000000</td>\n",
       "      <td>0.532360</td>\n",
       "      <td>0.000902</td>\n",
       "      <td>0.148351</td>\n",
       "      <td>0.229466</td>\n",
       "      <td>-0.081860</td>\n",
       "      <td>0.145906</td>\n",
       "      <td>0.665409</td>\n",
       "    </tr>\n",
       "    <tr>\n",
       "      <th>bedrooms</th>\n",
       "      <td>0.532360</td>\n",
       "      <td>1.000000</td>\n",
       "      <td>0.015097</td>\n",
       "      <td>0.111039</td>\n",
       "      <td>0.129541</td>\n",
       "      <td>0.028156</td>\n",
       "      <td>0.154058</td>\n",
       "      <td>0.464214</td>\n",
       "    </tr>\n",
       "    <tr>\n",
       "      <th>created</th>\n",
       "      <td>0.000902</td>\n",
       "      <td>0.015097</td>\n",
       "      <td>1.000000</td>\n",
       "      <td>-0.019399</td>\n",
       "      <td>-0.010759</td>\n",
       "      <td>-0.005026</td>\n",
       "      <td>0.008616</td>\n",
       "      <td>0.005665</td>\n",
       "    </tr>\n",
       "    <tr>\n",
       "      <th>description</th>\n",
       "      <td>0.148351</td>\n",
       "      <td>0.111039</td>\n",
       "      <td>-0.019399</td>\n",
       "      <td>1.000000</td>\n",
       "      <td>0.437221</td>\n",
       "      <td>0.052039</td>\n",
       "      <td>0.211149</td>\n",
       "      <td>0.154109</td>\n",
       "    </tr>\n",
       "    <tr>\n",
       "      <th>features</th>\n",
       "      <td>0.229466</td>\n",
       "      <td>0.129541</td>\n",
       "      <td>-0.010759</td>\n",
       "      <td>0.437221</td>\n",
       "      <td>1.000000</td>\n",
       "      <td>0.024782</td>\n",
       "      <td>0.157845</td>\n",
       "      <td>0.232796</td>\n",
       "    </tr>\n",
       "    <tr>\n",
       "      <th>interest_level</th>\n",
       "      <td>-0.081860</td>\n",
       "      <td>0.028156</td>\n",
       "      <td>-0.005026</td>\n",
       "      <td>0.052039</td>\n",
       "      <td>0.024782</td>\n",
       "      <td>1.000000</td>\n",
       "      <td>0.029675</td>\n",
       "      <td>-0.178716</td>\n",
       "    </tr>\n",
       "    <tr>\n",
       "      <th>photos</th>\n",
       "      <td>0.145906</td>\n",
       "      <td>0.154058</td>\n",
       "      <td>0.008616</td>\n",
       "      <td>0.211149</td>\n",
       "      <td>0.157845</td>\n",
       "      <td>0.029675</td>\n",
       "      <td>1.000000</td>\n",
       "      <td>0.120692</td>\n",
       "    </tr>\n",
       "    <tr>\n",
       "      <th>price</th>\n",
       "      <td>0.665409</td>\n",
       "      <td>0.464214</td>\n",
       "      <td>0.005665</td>\n",
       "      <td>0.154109</td>\n",
       "      <td>0.232796</td>\n",
       "      <td>-0.178716</td>\n",
       "      <td>0.120692</td>\n",
       "      <td>1.000000</td>\n",
       "    </tr>\n",
       "  </tbody>\n",
       "</table>\n",
       "</div>"
      ],
      "text/plain": [
       "                bathrooms  bedrooms   created  description  features  \\\n",
       "bathrooms        1.000000  0.532360  0.000902     0.148351  0.229466   \n",
       "bedrooms         0.532360  1.000000  0.015097     0.111039  0.129541   \n",
       "created          0.000902  0.015097  1.000000    -0.019399 -0.010759   \n",
       "description      0.148351  0.111039 -0.019399     1.000000  0.437221   \n",
       "features         0.229466  0.129541 -0.010759     0.437221  1.000000   \n",
       "interest_level  -0.081860  0.028156 -0.005026     0.052039  0.024782   \n",
       "photos           0.145906  0.154058  0.008616     0.211149  0.157845   \n",
       "price            0.665409  0.464214  0.005665     0.154109  0.232796   \n",
       "\n",
       "                interest_level    photos     price  \n",
       "bathrooms            -0.081860  0.145906  0.665409  \n",
       "bedrooms              0.028156  0.154058  0.464214  \n",
       "created              -0.005026  0.008616  0.005665  \n",
       "description           0.052039  0.211149  0.154109  \n",
       "features              0.024782  0.157845  0.232796  \n",
       "interest_level        1.000000  0.029675 -0.178716  \n",
       "photos                0.029675  1.000000  0.120692  \n",
       "price                -0.178716  0.120692  1.000000  "
      ]
     },
     "execution_count": 8,
     "metadata": {},
     "output_type": "execute_result"
    }
   ],
   "source": [
    "train.corr()"
   ]
  },
  {
   "cell_type": "code",
   "execution_count": 20,
   "metadata": {
    "collapsed": false
   },
   "outputs": [
    {
     "data": {
      "image/png": "[encoded data removed]",
      "text/plain": [
       "<matplotlib.figure.Figure at 0xee001d0>"
      ]
     },
     "metadata": {},
     "output_type": "display_data"
    }
   ],
   "source": [
    "plt.figure(figsize=(9,9))\n",
    "sns.heatmap(train.corr(), square=True, annot=True, annot_kws={'size': 11});"
   ]
  },
  {
   "cell_type": "markdown",
   "metadata": {},
   "source": [
    "Notice bathroom and price, bathroom and bedroom, bedroom and price have pretty high correlation. But not enough to remove one of them yet. Also notice price is negatively correlated to interest_level. "
   ]
  },
  {
   "cell_type": "markdown",
   "metadata": {},
   "source": [
    "### Dummy Variables "
   ]
  },
  {
   "cell_type": "markdown",
   "metadata": {},
   "source": [
    "Set created and neighborhood to dummy variables"
   ]
  },
  {
   "cell_type": "code",
   "execution_count": 41,
   "metadata": {
    "collapsed": false
   },
   "outputs": [],
   "source": [
    "train=pd.get_dummies(train,columns=['created'],drop_first='True')"
   ]
  },
  {
   "cell_type": "code",
   "execution_count": 42,
   "metadata": {
    "collapsed": false
   },
   "outputs": [],
   "source": [
    "train=pd.get_dummies(train,columns=['neighborhood'],prefix='nh',drop_first='True')"
   ]
  },
  {
   "cell_type": "code",
   "execution_count": 40,
   "metadata": {
    "collapsed": false
   },
   "outputs": [
    {
     "data": {
      "text/html": [
       "<div>\n",
       "<table border=\"1\" class=\"dataframe\">\n",
       "  <thead>\n",
       "    <tr style=\"text-align: right;\">\n",
       "      <th></th>\n",
       "      <th>bathrooms</th>\n",
       "      <th>bedrooms</th>\n",
       "      <th>created</th>\n",
       "      <th>description</th>\n",
       "      <th>features</th>\n",
       "      <th>interest_level</th>\n",
       "      <th>photos</th>\n",
       "      <th>price</th>\n",
       "      <th>neighborhood</th>\n",
       "    </tr>\n",
       "  </thead>\n",
       "  <tbody>\n",
       "    <tr>\n",
       "      <th>10</th>\n",
       "      <td>1.5</td>\n",
       "      <td>3</td>\n",
       "      <td>6</td>\n",
       "      <td>588</td>\n",
       "      <td>0</td>\n",
       "      <td>1</td>\n",
       "      <td>5</td>\n",
       "      <td>3000</td>\n",
       "      <td>Williamsburg</td>\n",
       "    </tr>\n",
       "    <tr>\n",
       "      <th>10000</th>\n",
       "      <td>1.0</td>\n",
       "      <td>2</td>\n",
       "      <td>6</td>\n",
       "      <td>8</td>\n",
       "      <td>5</td>\n",
       "      <td>0</td>\n",
       "      <td>11</td>\n",
       "      <td>5465</td>\n",
       "      <td>Upper West Side</td>\n",
       "    </tr>\n",
       "    <tr>\n",
       "      <th>100004</th>\n",
       "      <td>1.0</td>\n",
       "      <td>1</td>\n",
       "      <td>4</td>\n",
       "      <td>691</td>\n",
       "      <td>4</td>\n",
       "      <td>2</td>\n",
       "      <td>8</td>\n",
       "      <td>2850</td>\n",
       "      <td>Lower Manhattan</td>\n",
       "    </tr>\n",
       "    <tr>\n",
       "      <th>100007</th>\n",
       "      <td>1.0</td>\n",
       "      <td>1</td>\n",
       "      <td>4</td>\n",
       "      <td>492</td>\n",
       "      <td>2</td>\n",
       "      <td>0</td>\n",
       "      <td>3</td>\n",
       "      <td>3275</td>\n",
       "      <td>Midtown East</td>\n",
       "    </tr>\n",
       "    <tr>\n",
       "      <th>100013</th>\n",
       "      <td>1.0</td>\n",
       "      <td>4</td>\n",
       "      <td>4</td>\n",
       "      <td>479</td>\n",
       "      <td>1</td>\n",
       "      <td>0</td>\n",
       "      <td>3</td>\n",
       "      <td>3350</td>\n",
       "      <td>Upper Manhattan</td>\n",
       "    </tr>\n",
       "  </tbody>\n",
       "</table>\n",
       "</div>"
      ],
      "text/plain": [
       "        bathrooms  bedrooms  created  description  features  interest_level  \\\n",
       "10            1.5         3        6          588         0               1   \n",
       "10000         1.0         2        6            8         5               0   \n",
       "100004        1.0         1        4          691         4               2   \n",
       "100007        1.0         1        4          492         2               0   \n",
       "100013        1.0         4        4          479         1               0   \n",
       "\n",
       "        photos  price     neighborhood  \n",
       "10           5   3000     Williamsburg  \n",
       "10000       11   5465  Upper West Side  \n",
       "100004       8   2850  Lower Manhattan  \n",
       "100007       3   3275     Midtown East  \n",
       "100013       3   3350  Upper Manhattan  "
      ]
     },
     "execution_count": 40,
     "metadata": {},
     "output_type": "execute_result"
    }
   ],
   "source": [
    "train.head()"
   ]
  },
  {
   "cell_type": "code",
   "execution_count": 92,
   "metadata": {
    "collapsed": false
   },
   "outputs": [],
   "source": [
    "features_set=list(train.columns)\n",
    "features_set.remove('interest_level')"
   ]
  },
  {
   "cell_type": "markdown",
   "metadata": {},
   "source": [
    "### Logistic Regression "
   ]
  },
  {
   "cell_type": "code",
   "execution_count": 125,
   "metadata": {
    "collapsed": false
   },
   "outputs": [],
   "source": [
    "lm=LogisticRegression()\n",
    "lm=lm.fit(train.drop(['interest_level'],1),train.interest_level)"
   ]
  },
  {
   "cell_type": "code",
   "execution_count": 131,
   "metadata": {
    "collapsed": false
   },
   "outputs": [],
   "source": [
    "# cross_validate not working with multiclass\n",
    "scores={}\n",
    "for i in range(-5,5):\n",
    "    c=10**-i\n",
    "    lm=LogisticRegression(C=c)\n",
    "    lm.fit(train.drop(['interest_level'],1),train.interest_level)\n",
    "    scores[c]=np.mean(cross_validation.cross_val_score(lm, train[features_set], train.interest_level, cv=5))"
   ]
  },
  {
   "cell_type": "code",
   "execution_count": 132,
   "metadata": {
    "collapsed": false
   },
   "outputs": [
    {
     "data": {
      "text/plain": [
       "{0.0001: 0.69287504272662459,\n",
       " 0.001: 0.69098010038103819,\n",
       " 0.01: 0.691856285355682,\n",
       " 0.1: 0.69316030790880134,\n",
       " 1: 0.69340471951018468,\n",
       " 10: 0.69385303784679919,\n",
       " 100: 0.6941790196147315,\n",
       " 1000: 0.69373079260814219,\n",
       " 10000: 0.69350665004529399,\n",
       " 100000: 0.6930583524655034}"
      ]
     },
     "execution_count": 132,
     "metadata": {},
     "output_type": "execute_result"
    }
   ],
   "source": [
    "# scores is the default score function for the model. In this case(logstic regression), it is mean accuracy \n",
    "scores"
   ]
  },
  {
   "cell_type": "code",
   "execution_count": 136,
   "metadata": {
    "collapsed": false
   },
   "outputs": [],
   "source": [
    "c=max(scores, key=scores.get) # get the C for the maximum accuracy 100\n",
    "lm=LogisticRegression(C=100)\n",
    "lm=lm.fit(train.drop(['interest_level'],1),train.interest_level)"
   ]
  },
  {
   "cell_type": "code",
   "execution_count": 141,
   "metadata": {
    "collapsed": false
   },
   "outputs": [
    {
     "data": {
      "text/plain": [
       "array([[32999,  1092,     9],\n",
       "       [10221,   938,     4],\n",
       "       [ 3212,   560,    46]])"
      ]
     },
     "execution_count": 141,
     "metadata": {},
     "output_type": "execute_result"
    }
   ],
   "source": [
    "y_pred = lm.predict(train[features_set])\n",
    "confusion = confusion_matrix(y_true=train.interest_level, y_pred=y_pred)\n",
    "confusion"
   ]
  },
  {
   "cell_type": "code",
   "execution_count": 145,
   "metadata": {
    "collapsed": false
   },
   "outputs": [
    {
     "data": {
      "text/plain": [
       "0.63678956514218088"
      ]
     },
     "execution_count": 145,
     "metadata": {},
     "output_type": "execute_result"
    }
   ],
   "source": [
    "precision_score(y_true=train.interest_level, y_pred=y_pred, average='weighted')"
   ]
  },
  {
   "cell_type": "code",
   "execution_count": null,
   "metadata": {
    "collapsed": true
   },
   "outputs": [],
   "source": [
    "The outputs of logistic regress are not satisfying, especially the predict on interest leve 1 and 2(medium and high)"
   ]
  },
  {
   "cell_type": "markdown",
   "metadata": {},
   "source": [
    "### Random Forest Tree"
   ]
  },
  {
   "cell_type": "code",
   "execution_count": 84,
   "metadata": {
    "collapsed": true
   },
   "outputs": [],
   "source": [
    "X=train.drop(['interest_level'],1)\n",
    "y=train.interest_level"
   ]
  },
  {
   "cell_type": "code",
   "execution_count": 180,
   "metadata": {
    "collapsed": false,
    "scrolled": true
   },
   "outputs": [
    {
     "name": "stdout",
     "output_type": "stream",
     "text": [
      "n trees: 120, CV mean accuracy [ 0.71028666  0.7104089   0.70884528], Average mean accuracy 0.709846946816\n",
      "n trees: 125, CV mean accuracy [ 0.71095899  0.7107145   0.70921205], Average mean accuracy 0.710295182122\n",
      "n trees: 130, CV mean accuracy [ 0.71065338  0.71102011  0.70817287], Average mean accuracy 0.709948787681\n",
      "n trees: 135, CV mean accuracy [ 0.71199804  0.7118758   0.70982334], Average mean accuracy 0.711232395059\n",
      "n trees: 140, CV mean accuracy [ 0.71053114  0.71199804  0.71110704], Average mean accuracy 0.711212073713\n",
      "n trees: 145, CV mean accuracy [ 0.71095899  0.71053114  0.70988447], Average mean accuracy 0.710458198744\n",
      "n trees: 150, CV mean accuracy [ 0.71034778  0.7104089   0.71055688], Average mean accuracy 0.71043785249\n",
      "n trees: 155, CV mean accuracy [ 0.70918648  0.71089787  0.70976221], Average mean accuracy 0.709948852442\n"
     ]
    }
   ],
   "source": [
    "auc_scores = {}\n",
    "for n_trees in range(120, 160, 5):\n",
    "    model = RandomForestClassifier(n_estimators = n_trees)\n",
    "    scores = cross_validation.cross_val_score(model, X, y)  #auc score not supported for multiclass\n",
    "    print('n trees: {}, CV mean accuracy {}, Average mean accuracy {}'.format(n_trees, scores, scores.mean()))\n",
    "    auc_scores[n_trees] = scores.mean()"
   ]
  },
  {
   "cell_type": "code",
   "execution_count": 86,
   "metadata": {
    "collapsed": false
   },
   "outputs": [
    {
     "data": {
      "text/plain": [
       "RandomForestClassifier(bootstrap=True, class_weight=None, criterion='gini',\n",
       "            max_depth=None, max_features='auto', max_leaf_nodes=None,\n",
       "            min_impurity_split=1e-07, min_samples_leaf=1,\n",
       "            min_samples_split=2, min_weight_fraction_leaf=0.0,\n",
       "            n_estimators=135, n_jobs=1, oob_score=False, random_state=None,\n",
       "            verbose=0, warm_start=False)"
      ]
     },
     "execution_count": 86,
     "metadata": {},
     "output_type": "execute_result"
    }
   ],
   "source": [
    "model = RandomForestClassifier(n_estimators = 135)\n",
    "model.fit(X, y)"
   ]
  },
  {
   "cell_type": "code",
   "execution_count": 190,
   "metadata": {
    "collapsed": true
   },
   "outputs": [],
   "source": [
    "y_pred = model.predict(train[features_set])"
   ]
  },
  {
   "cell_type": "code",
   "execution_count": 192,
   "metadata": {
    "collapsed": false
   },
   "outputs": [
    {
     "data": {
      "text/plain": [
       "array([[33921,   168,    11],\n",
       "       [  311, 10783,    69],\n",
       "       [   35,   113,  3670]])"
      ]
     },
     "execution_count": 192,
     "metadata": {},
     "output_type": "execute_result"
    }
   ],
   "source": [
    "confusion = confusion_matrix(y_true=train.interest_level, y_pred=y_pred)\n",
    "confusion"
   ]
  },
  {
   "cell_type": "code",
   "execution_count": 193,
   "metadata": {
    "collapsed": false
   },
   "outputs": [
    {
     "data": {
      "text/plain": [
       "0.98554881096827218"
      ]
     },
     "execution_count": 193,
     "metadata": {},
     "output_type": "execute_result"
    }
   ],
   "source": [
    "precision_score(y_true=train.interest_level, y_pred=y_pred, average='weighted')"
   ]
  },
  {
   "cell_type": "code",
   "execution_count": null,
   "metadata": {
    "collapsed": true
   },
   "outputs": [],
   "source": [
    "The outputs are much better than logistic regression."
   ]
  },
  {
   "cell_type": "code",
   "execution_count": 95,
   "metadata": {
    "collapsed": false
   },
   "outputs": [
    {
     "data": {
      "text/html": [
       "<div>\n",
       "<table border=\"1\" class=\"dataframe\">\n",
       "  <thead>\n",
       "    <tr style=\"text-align: right;\">\n",
       "      <th></th>\n",
       "      <th>Features</th>\n",
       "      <th>Importance Score</th>\n",
       "    </tr>\n",
       "  </thead>\n",
       "  <tbody>\n",
       "    <tr>\n",
       "      <th>5</th>\n",
       "      <td>price</td>\n",
       "      <td>0.274548</td>\n",
       "    </tr>\n",
       "    <tr>\n",
       "      <th>2</th>\n",
       "      <td>description</td>\n",
       "      <td>0.249697</td>\n",
       "    </tr>\n",
       "    <tr>\n",
       "      <th>4</th>\n",
       "      <td>photos</td>\n",
       "      <td>0.134178</td>\n",
       "    </tr>\n",
       "    <tr>\n",
       "      <th>3</th>\n",
       "      <td>features</td>\n",
       "      <td>0.128284</td>\n",
       "    </tr>\n",
       "    <tr>\n",
       "      <th>1</th>\n",
       "      <td>bedrooms</td>\n",
       "      <td>0.052511</td>\n",
       "    </tr>\n",
       "  </tbody>\n",
       "</table>\n",
       "</div>"
      ],
      "text/plain": [
       "      Features  Importance Score\n",
       "5        price          0.274548\n",
       "2  description          0.249697\n",
       "4       photos          0.134178\n",
       "3     features          0.128284\n",
       "1     bedrooms          0.052511"
      ]
     },
     "execution_count": 95,
     "metadata": {},
     "output_type": "execute_result"
    }
   ],
   "source": [
    "feature_importances = pd.DataFrame({'Features' : features_set, 'Importance Score': model.feature_importances_})\n",
    "feature_importances.sort_values('Importance Score', ascending=False).head(5)"
   ]
  },
  {
   "cell_type": "markdown",
   "metadata": {},
   "source": [
    "### Random Forest Tree with countVectorizer"
   ]
  },
  {
   "cell_type": "code",
   "execution_count": 6,
   "metadata": {
    "collapsed": false
   },
   "outputs": [],
   "source": [
    "train2=pd.read_csv('train_ready.csv',index_col=0,usecols=[0,1,2,3,6,9,10,11])"
   ]
  },
  {
   "cell_type": "code",
   "execution_count": 7,
   "metadata": {
    "collapsed": true
   },
   "outputs": [],
   "source": [
    "train2=pd.get_dummies(train2,columns=['created'],drop_first='True')"
   ]
  },
  {
   "cell_type": "code",
   "execution_count": 8,
   "metadata": {
    "collapsed": false
   },
   "outputs": [],
   "source": [
    "train2=pd.get_dummies(train2,columns=['neighborhood'],prefix='nh',drop_first='True')"
   ]
  },
  {
   "cell_type": "code",
   "execution_count": 9,
   "metadata": {
    "collapsed": false
   },
   "outputs": [],
   "source": [
    "raw=pd.read_json('train.json')\n",
    "raw=raw[['description','features']]\n",
    "raw['features']=raw.features.apply(str)\n",
    "train3=train2.join(raw)"
   ]
  },
  {
   "cell_type": "code",
   "execution_count": 67,
   "metadata": {
    "collapsed": false
   },
   "outputs": [],
   "source": [
    "vectorizer1 = CountVectorizer(max_features = 1000, \n",
    "                             ngram_range=(1, 2), \n",
    "                             stop_words='english',\n",
    "                             binary=True)\n",
    "features=vectorizer1.fit_transform(train3['features'])"
   ]
  },
  {
   "cell_type": "code",
   "execution_count": 69,
   "metadata": {
    "collapsed": false
   },
   "outputs": [],
   "source": [
    "vectorizer2 = CountVectorizer(max_features = 1000, \n",
    "                             ngram_range=(1, 1), \n",
    "                             stop_words='english',\n",
    "                             binary=True)\n",
    "description=vectorizer2.fit_transform(train3['description'])"
   ]
  },
  {
   "cell_type": "code",
   "execution_count": 71,
   "metadata": {
    "collapsed": false
   },
   "outputs": [],
   "source": [
    "X = hstack((description,features, train2.drop(['interest_level'],1))).toarray()"
   ]
  },
  {
   "cell_type": "code",
   "execution_count": 72,
   "metadata": {
    "collapsed": false
   },
   "outputs": [],
   "source": [
    "y=train2.interest_level"
   ]
  },
  {
   "cell_type": "code",
   "execution_count": 73,
   "metadata": {
    "collapsed": false
   },
   "outputs": [
    {
     "name": "stdout",
     "output_type": "stream",
     "text": [
      "n trees: 120, CV mean accuracy [ 0.71346495  0.71529858  0.71251299], Average mean accuracy 0.713758837601\n",
      "n trees: 135, CV mean accuracy [ 0.71322046  0.71456512  0.7127575 ], Average mean accuracy 0.713514363731\n",
      "n trees: 150, CV mean accuracy [ 0.71267037  0.71474849  0.71147381], Average mean accuracy 0.712964222798\n",
      "n trees: 165, CV mean accuracy [ 0.71413728  0.71468737  0.71281863], Average mean accuracy 0.713881091972\n"
     ]
    }
   ],
   "source": [
    "auc_scores = {}\n",
    "for n_trees in range(120, 176, 15):\n",
    "    model = RandomForestClassifier(n_estimators = n_trees)\n",
    "    scores = cross_validation.cross_val_score(model, X, y)  #auc score not supported for multiclass\n",
    "    print('n trees: {}, CV mean accuracy {}, Average mean accuracy {}'.format(n_trees, scores, scores.mean()))\n",
    "    auc_scores[n_trees] = scores.mean()"
   ]
  },
  {
   "cell_type": "code",
   "execution_count": 74,
   "metadata": {
    "collapsed": false
   },
   "outputs": [
    {
     "data": {
      "text/plain": [
       "RandomForestClassifier(bootstrap=True, class_weight=None, criterion='gini',\n",
       "            max_depth=None, max_features='auto', max_leaf_nodes=None,\n",
       "            min_impurity_split=1e-07, min_samples_leaf=1,\n",
       "            min_samples_split=2, min_weight_fraction_leaf=0.0,\n",
       "            n_estimators=165, n_jobs=1, oob_score=False, random_state=None,\n",
       "            verbose=0, warm_start=False)"
      ]
     },
     "execution_count": 74,
     "metadata": {},
     "output_type": "execute_result"
    }
   ],
   "source": [
    "model2 = RandomForestClassifier(n_estimators = 165)\n",
    "model2.fit(X, y)"
   ]
  },
  {
   "cell_type": "code",
   "execution_count": 75,
   "metadata": {
    "collapsed": false
   },
   "outputs": [
    {
     "data": {
      "text/plain": [
       "array([[33898,   181,    21],\n",
       "       [  304, 10783,    76],\n",
       "       [   25,   115,  3678]])"
      ]
     },
     "execution_count": 75,
     "metadata": {},
     "output_type": "execute_result"
    }
   ],
   "source": [
    "y_pred = model2.predict(X)\n",
    "confusion = confusion_matrix(y_true=train.interest_level, y_pred=y_pred)\n",
    "confusion"
   ]
  },
  {
   "cell_type": "code",
   "execution_count": 76,
   "metadata": {
    "collapsed": false
   },
   "outputs": [
    {
     "data": {
      "text/plain": [
       "0.98524625852884817"
      ]
     },
     "execution_count": 76,
     "metadata": {},
     "output_type": "execute_result"
    }
   ],
   "source": [
    "precision_score(y_true=train.interest_level, y_pred=y_pred, average='weighted')"
   ]
  },
  {
   "cell_type": "code",
   "execution_count": 54,
   "metadata": {
    "collapsed": true
   },
   "outputs": [],
   "source": [
    "features_set2=features_set\n",
    "features_set2.remove('features')\n",
    "features_set2.remove('description')"
   ]
  },
  {
   "cell_type": "code",
   "execution_count": 79,
   "metadata": {
    "collapsed": false
   },
   "outputs": [
    {
     "data": {
      "text/html": [
       "<div>\n",
       "<table border=\"1\" class=\"dataframe\">\n",
       "  <thead>\n",
       "    <tr style=\"text-align: right;\">\n",
       "      <th></th>\n",
       "      <th>Features</th>\n",
       "      <th>Importance Score</th>\n",
       "    </tr>\n",
       "  </thead>\n",
       "  <tbody>\n",
       "    <tr>\n",
       "      <th>2003</th>\n",
       "      <td>price</td>\n",
       "      <td>0.057197</td>\n",
       "    </tr>\n",
       "    <tr>\n",
       "      <th>2002</th>\n",
       "      <td>photos</td>\n",
       "      <td>0.022693</td>\n",
       "    </tr>\n",
       "    <tr>\n",
       "      <th>2004</th>\n",
       "      <td>created_5</td>\n",
       "      <td>0.019065</td>\n",
       "    </tr>\n",
       "    <tr>\n",
       "      <th>2005</th>\n",
       "      <td>created_6</td>\n",
       "      <td>0.018300</td>\n",
       "    </tr>\n",
       "    <tr>\n",
       "      <th>2001</th>\n",
       "      <td>bedrooms</td>\n",
       "      <td>0.014267</td>\n",
       "    </tr>\n",
       "    <tr>\n",
       "      <th>1406</th>\n",
       "      <td>fee</td>\n",
       "      <td>0.005790</td>\n",
       "    </tr>\n",
       "    <tr>\n",
       "      <th>2000</th>\n",
       "      <td>bathrooms</td>\n",
       "      <td>0.005614</td>\n",
       "    </tr>\n",
       "    <tr>\n",
       "      <th>130</th>\n",
       "      <td>bedroom</td>\n",
       "      <td>0.003648</td>\n",
       "    </tr>\n",
       "    <tr>\n",
       "      <th>1321</th>\n",
       "      <td>doorman</td>\n",
       "      <td>0.003631</td>\n",
       "    </tr>\n",
       "    <tr>\n",
       "      <th>1360</th>\n",
       "      <td>elevator</td>\n",
       "      <td>0.003356</td>\n",
       "    </tr>\n",
       "  </tbody>\n",
       "</table>\n",
       "</div>"
      ],
      "text/plain": [
       "       Features  Importance Score\n",
       "2003      price          0.057197\n",
       "2002     photos          0.022693\n",
       "2004  created_5          0.019065\n",
       "2005  created_6          0.018300\n",
       "2001   bedrooms          0.014267\n",
       "1406        fee          0.005790\n",
       "2000  bathrooms          0.005614\n",
       "130     bedroom          0.003648\n",
       "1321    doorman          0.003631\n",
       "1360   elevator          0.003356"
      ]
     },
     "execution_count": 79,
     "metadata": {},
     "output_type": "execute_result"
    }
   ],
   "source": [
    "all_feature_names = vectorizer2.get_feature_names()+vectorizer1.get_feature_names() + features_set2\n",
    "feature_importances = pd.DataFrame({'Features' : all_feature_names, 'Importance Score': model2.feature_importances_})\n",
    "feature_importances.sort_values('Importance Score', ascending=False).head(10)"
   ]
  },
  {
   "cell_type": "markdown",
   "metadata": {},
   "source": [
    "##  Conclusion"
   ]
  },
  {
   "cell_type": "markdown",
   "metadata": {},
   "source": [
    "With information on bedrooms, bathrooms, created time, description, features, price, number of photos, and geolocation of a listing, Random Forest Tree model predicts the interest level very well."
   ]
  }
 ],
 "metadata": {
  "anaconda-cloud": {},
  "kernelspec": {
   "display_name": "Python [conda root]",
   "language": "python",
   "name": "conda-root-py"
  },
  "language_info": {
   "codemirror_mode": {
    "name": "ipython",
    "version": 2
   },
   "file_extension": ".py",
   "mimetype": "text/x-python",
   "name": "python",
   "nbconvert_exporter": "python",
   "pygments_lexer": "ipython2",
   "version": "2.7.12"
  }
 },
 "nbformat": 4,
 "nbformat_minor": 1
}
