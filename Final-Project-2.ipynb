{
 "cells": [
  {
   "cell_type": "markdown",
   "metadata": {},
   "source": [
    "# Final Project 2"
   ]
  },
  {
   "cell_type": "markdown",
   "metadata": {},
   "source": [
    "# Project Design Writeup and Approval Template"
   ]
  },
  {
   "cell_type": "markdown",
   "metadata": {},
   "source": [
    "###  Project Problem and Hypothesis"
   ]
  },
  {
   "cell_type": "markdown",
   "metadata": {},
   "source": [
    "* This is a hiring competition designed by Two Sigma from Kaggle.com. The problem is to predict interest level of rental listings in New York City area listed on Renthop.com based listing information. \n",
    "* The interest level is set to low, medium, and high based on number of inquiries. So this is a logistic regression problem. \n",
    "* Renthop orders rental listings based on quality. The problem can help to identify popular listings and  allow owners and agents to better understand renters’ needs and preferences.\n",
    "* Price and number of bedrooms and bathrooms wil have most impact in predicting the interest level"
   ]
  },
  {
   "cell_type": "markdown",
   "metadata": {},
   "source": [
    "### Datasets"
   ]
  },
  {
   "cell_type": "markdown",
   "metadata": {},
   "source": [
    "* The dataset contains 49352 records without any nulls. \n",
    "#### Fields\n",
    "1. bathrooms: number of bathrooms\n",
    "2. bedrooms: number of bathrooms\n",
    "3. building_id\n",
    "4. created: date and time when the listing was created\n",
    "5. description\n",
    "6. display_address\n",
    "7. features: a list of features about this apartment\n",
    "8. latitude\n",
    "9. listing_id\n",
    "10. longitude\n",
    "11. manager_id\n",
    "12. photos: a list of photo links. The pictures can be downloaded from renthop's site.\n",
    "13. price: in USD\n",
    "14. street_address\n",
    "15. interest_level: this is the target variable. It has 3 categories: 'high', 'medium', 'low'"
   ]
  },
  {
   "cell_type": "markdown",
   "metadata": {
    "collapsed": true
   },
   "source": [
    "### Domain Knowledge "
   ]
  },
  {
   "cell_type": "markdown",
   "metadata": {},
   "source": [
    "* I do not have any experience in the area. But the data is easy to understand and can easily be related to life experience. \n",
    "* I did not find similar researches. I believe Two Sigma designed the problem to be challenging and not easily modelled after existing researches."
   ]
  },
  {
   "cell_type": "markdown",
   "metadata": {},
   "source": [
    "### Project  Concerns"
   ]
  },
  {
   "cell_type": "markdown",
   "metadata": {},
   "source": [
    "* The problem is easy to understand. But I am not sure if it would be easy to retrieve zip/neighborhood data from Google based on latitude and longitude.\n",
    "* I with neighborhood or zip code were available\n",
    "* The photos are 80G. Hard to utilize the photos\n",
    "* If the model is wrong, Renthop will list the rental listing in an unoptimized order. And identify the wrong perferences. \n",
    "* If bedrooms, bathrooms, prices, and locations are wrong, the model will be wrong"
   ]
  },
  {
   "cell_type": "markdown",
   "metadata": {},
   "source": [
    "### Outcome\n",
    "* I expect the output to be pretty good and be able to predict the interest level based on given data.\n",
    "* Since this is a hiring competition, the audience will be experts on data science\n",
    "* I think the model shoud be easy. Logistic regression should be enough. \n",
    "* If it fails, nothing bad happens"
   ]
  }
 ],
 "metadata": {
  "anaconda-cloud": {},
  "kernelspec": {
   "display_name": "Python [conda root]",
   "language": "python",
   "name": "conda-root-py"
  },
  "language_info": {
   "codemirror_mode": {
    "name": "ipython",
    "version": 2
   },
   "file_extension": ".py",
   "mimetype": "text/x-python",
   "name": "python",
   "nbconvert_exporter": "python",
   "pygments_lexer": "ipython2",
   "version": "2.7.12"
  }
 },
 "nbformat": 4,
 "nbformat_minor": 1
}
